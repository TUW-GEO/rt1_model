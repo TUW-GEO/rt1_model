{
 "cells": [
  {
   "cell_type": "markdown",
   "id": "b29f235d",
   "metadata": {
    "editable": true,
    "papermill": {
     "duration": 0.002,
     "end_time": "2023-11-20T13:38:22.430073",
     "exception": false,
     "start_time": "2023-11-20T13:38:22.428073",
     "status": "completed"
    },
    "slideshow": {
     "slide_type": ""
    },
    "tags": []
   },
   "source": [
    "# Calculation of the fn-coefficients\n",
    "\n",
    "In the following, a simple example on how to manually evaluate the fn-coefficients is given. \n",
    "\n",
    "The ground is hereby defined as a Lambertian-surface and the covering layer is assumed to consist of Rayleigh-particles.  \n",
    "\n",
    "Within the following calculation, the symbols and functions are defined as presented in the Theory-chapter of the documentation.\n",
    "\n",
    "## Definition of the surface and volume scattering distribution functions:\n",
    "- $R_0$ denotes the diffuse albedo of the surface)\n",
    "- $\\cos(\\Theta)$ denotes the cosine of the scattering-angle which is defined as:\n",
    "  $\\qquad \\cos(\\Theta) = \\cos(\\theta)\\cos(\\theta_{ex}) + \\sin(\\theta)\\sin(\\theta_{ex})\\cos(\\phi - \\phi_{ex})$\n",
    "\n",
    "$BRDF(\\theta, \\phi, \\theta_{ex},\\phi_{ex}) = \\frac{R_0}{\\pi}$\n",
    "\n",
    "$p(\\theta, \\phi, \\theta_{ex},\\phi_{ex}) = \\frac{3}{16\\pi} (1+\\cos(\\Theta)^2)$\n",
    "\n"
   ]
  },
  {
   "cell_type": "markdown",
   "id": "1ffc59af-ed75-4d99-9479-6b5bcc161d14",
   "metadata": {
    "editable": true,
    "papermill": {
     "duration": 0.002001,
     "end_time": "2023-11-20T13:38:22.434074",
     "exception": false,
     "start_time": "2023-11-20T13:38:22.432073",
     "status": "completed"
    },
    "slideshow": {
     "slide_type": ""
    },
    "tags": []
   },
   "source": [
    "## Manual evaluation of the fn-coefficients:\n",
    "\n",
    "$INT := \\int_0^{2\\pi} p(\\theta_0, \\phi_0, \\theta,\\phi) * BRDF(\\pi-\\theta, \\phi, \\theta_{ex},\\phi_{ex}) d\\phi$\n",
    "\n",
    "$\\phantom{INT} = \\frac{3 R_0}{16 \\pi^2} \\int_{0}^{2\\pi}  (1+[\\cos(\\theta_0)\\cos(\\theta) + \\sin(\\theta_0)\\sin(\\theta)\\cos(\\phi_0 - \\phi)]^2) d\\phi$\n",
    "\n",
    "$\\phantom{INT} = \\frac{3 R_0}{16 \\pi^2} \\int_0^{2\\pi} (1+ \\mu_0^2 \\mu^2 + 2 \\mu_0 \\mu \\sin(\\theta_0) \\sin(\\theta) \\cos(\\phi_0 - \\phi) + (1-\\mu_0)^2(1-\\mu)^2 \\cos(\\phi_0 - \\phi)^2 d\\phi$\n",
    "\n",
    "\n",
    "where the shorthand-notation $\\mu_x = \\cos(\\theta_x)$ has been introduced.\n",
    "The above integral can now easily be solved by noticing:\n",
    "\n",
    "$\\int_0^{2\\pi} \\cos(\\phi_0 - \\phi)^n d\\phi = \\left\\lbrace \\begin{matrix} 2 \\pi & \\textrm{for } n=0 \\\\ 0 & \\textrm{for } n=1 \\\\ \\pi  & \\textrm{for } n=2 \\end{matrix} \\right.$\n",
    "    \n",
    "Inserting the above solution and using some algebraic manipulations we therefore find:\n",
    "\n",
    "$INT = \\frac{3 R_0}{16\\pi} \\Big[ (3-\\mu_0^2) + (3 \\mu_0 -1) \\mu^2 \\Big] := R_0 ~\\sum_{n=0}^2 f_n \\, \\mu^n$"
   ]
  },
  {
   "cell_type": "markdown",
   "id": "e24d5f4f-bd72-497b-a508-d34eb3e9a100",
   "metadata": {
    "editable": true,
    "papermill": {
     "duration": 0.002001,
     "end_time": "2023-11-20T13:38:22.434074",
     "exception": false,
     "start_time": "2023-11-20T13:38:22.432073",
     "status": "completed"
    },
    "slideshow": {
     "slide_type": ""
    },
    "tags": []
   },
   "source": [
    "And so the ``fn`` coefficients are given by:\n",
    "\n",
    "$$\\quad f_0 = \\frac{3(3-\\mu_0^2)}{16\\pi} \\qquad f_1 = 0 \\qquad f_2 = \\frac{3(3 \\mu_0 -1)}{16\\pi} \\qquad f_n = 0 \\, \\forall \\, n>2$$"
   ]
  },
  {
   "cell_type": "markdown",
   "id": "eba1c7e0",
   "metadata": {
    "editable": true,
    "papermill": {
     "duration": 0.002001,
     "end_time": "2023-11-20T13:38:22.438075",
     "exception": false,
     "start_time": "2023-11-20T13:38:22.436074",
     "status": "completed"
    },
    "slideshow": {
     "slide_type": ""
    },
    "tags": []
   },
   "source": [
    "## Evaluation of the fn-coefficients using the RT1-module"
   ]
  },
  {
   "cell_type": "code",
   "execution_count": 1,
   "id": "55554e3f",
   "metadata": {
    "editable": true,
    "papermill": {
     "duration": 0.556501,
     "end_time": "2023-11-20T13:38:22.996577",
     "exception": false,
     "start_time": "2023-11-20T13:38:22.440076",
     "status": "completed"
    },
    "slideshow": {
     "slide_type": ""
    },
    "tags": [
     "hide-input"
    ]
   },
   "outputs": [],
   "source": [
    "from rt1_model import RT1, volume, surface\n",
    "import sympy as sp\n",
    "# enable printing sympy equations via latex-equation-rendering\n",
    "sp.init_printing(use_latex='mathjax')"
   ]
  },
  {
   "cell_type": "markdown",
   "id": "ade46231-5a1e-4e9c-94c8-3800aa77ffd2",
   "metadata": {
    "editable": true,
    "slideshow": {
     "slide_type": ""
    },
    "tags": []
   },
   "source": [
    "## Definition of volume and surface scattering distributions"
   ]
  },
  {
   "cell_type": "code",
   "execution_count": 11,
   "id": "1fd887aa-f0ff-4b2d-801b-d0521528d7e0",
   "metadata": {
    "editable": true,
    "papermill": {
     "duration": 0.493111,
     "end_time": "2023-11-20T13:38:23.492688",
     "exception": false,
     "start_time": "2023-11-20T13:38:22.999577",
     "status": "completed"
    },
    "slideshow": {
     "slide_type": ""
    },
    "tags": []
   },
   "outputs": [],
   "source": [
    "SRF = surface.Isotropic()\n",
    "V = volume.Rayleigh()\n",
    "\n",
    "R = RT1(V=V, SRF=SRF)\n",
    "R.set_monostatic(p_0=0)"
   ]
  },
  {
   "cell_type": "markdown",
   "id": "e74cee0c-6fab-4ecc-b5ac-0a40d69f8443",
   "metadata": {
    "editable": true,
    "slideshow": {
     "slide_type": ""
    },
    "tags": []
   },
   "source": [
    "## Check the evaluated fn-coefficients"
   ]
  },
  {
   "cell_type": "code",
   "execution_count": 12,
   "id": "de4d65a9-0d77-41e1-999f-2839977e8513",
   "metadata": {
    "editable": true,
    "papermill": {
     "duration": 0.493111,
     "end_time": "2023-11-20T13:38:23.492688",
     "exception": false,
     "start_time": "2023-11-20T13:38:22.999577",
     "status": "completed"
    },
    "slideshow": {
     "slide_type": ""
    },
    "tags": []
   },
   "outputs": [
    {
     "data": {
      "text/latex": [
       "$\\displaystyle \\left[ \\frac{0.1875 \\sin^{2}{\\left(\\theta_{0} \\right)}}{\\pi} + \\frac{0.375}{\\pi}, \\  0, \\  - \\frac{0.1875 \\sin^{2}{\\left(\\theta_{0} \\right)}}{\\pi} + \\frac{0.375 \\cos^{2}{\\left(\\theta_{0} \\right)}}{\\pi}\\right]$"
      ],
      "text/plain": [
       "⎡          2                             2                2    ⎤\n",
       "⎢0.1875⋅sin (θ₀)   0.375       0.1875⋅sin (θ₀)   0.375⋅cos (θ₀)⎥\n",
       "⎢─────────────── + ─────, 0, - ─────────────── + ──────────────⎥\n",
       "⎣       π            π                π                π       ⎦"
      ]
     },
     "execution_count": 12,
     "metadata": {},
     "output_type": "execute_result"
    }
   ],
   "source": [
    "sp.sympify(R._fn)"
   ]
  },
  {
   "cell_type": "markdown",
   "id": "cfcded0b-24e1-4dc1-8eb0-913af143edde",
   "metadata": {
    "editable": true,
    "slideshow": {
     "slide_type": ""
    },
    "tags": []
   },
   "source": [
    "## Apply some simplifications to see that the coefficients are really equal"
   ]
  },
  {
   "cell_type": "code",
   "execution_count": 13,
   "id": "af4d1613",
   "metadata": {
    "editable": true,
    "papermill": {
     "duration": 0.259059,
     "end_time": "2023-11-20T13:38:23.755748",
     "exception": false,
     "start_time": "2023-11-20T13:38:23.496689",
     "status": "completed"
    },
    "slideshow": {
     "slide_type": ""
    },
    "tags": []
   },
   "outputs": [
    {
     "data": {
      "text/latex": [
       "$\\displaystyle \\left[ \\frac{3 \\cdot \\left(3 - \\mu_{0}^{2}\\right)}{16 \\pi}, \\  0, \\  \\frac{3 \\cdot \\left(3 \\mu_{0}^{2} - 1\\right)}{16 \\pi}\\right]$"
      ],
      "text/plain": [
       "⎡  ⎛      2⎞       ⎛    2    ⎞⎤\n",
       "⎢3⋅⎝3 - μ₀ ⎠     3⋅⎝3⋅μ₀  - 1⎠⎥\n",
       "⎢───────────, 0, ─────────────⎥\n",
       "⎣    16⋅π             16⋅π    ⎦"
      ]
     },
     "execution_count": 13,
     "metadata": {},
     "output_type": "execute_result"
    }
   ],
   "source": [
    "[sp.trigsimp(fi).xreplace({sp.sin('theta_0')**2 : 1.- sp.Symbol(\"mu_0\")**2}).nsimplify().simplify() for fi in R._fn]"
   ]
  }
 ],
 "metadata": {
  "hide_input": false,
  "kernelspec": {
   "display_name": "Python 3 (ipykernel)",
   "language": "python",
   "name": "python3"
  },
  "language_info": {
   "codemirror_mode": {
    "name": "ipython",
    "version": 3
   },
   "file_extension": ".py",
   "mimetype": "text/x-python",
   "name": "python",
   "nbconvert_exporter": "python",
   "pygments_lexer": "ipython3",
   "version": "3.11.6"
  },
  "papermill": {
   "default_parameters": {},
   "duration": 2.893037,
   "end_time": "2023-11-20T13:38:24.078821",
   "environment_variables": {},
   "exception": null,
   "input_path": "D:\\python_modules\\RT1_new\\docs\\examples\\example_fn.ipynb",
   "output_path": "D:\\python_modules\\RT1_new\\docs\\examples\\example_fn.ipynb",
   "parameters": {},
   "start_time": "2023-11-20T13:38:21.185784",
   "version": "2.4.0"
  },
  "widgets": {
   "application/vnd.jupyter.widget-state+json": {
    "state": {},
    "version_major": 2,
    "version_minor": 0
   }
  }
 },
 "nbformat": 4,
 "nbformat_minor": 5
}
